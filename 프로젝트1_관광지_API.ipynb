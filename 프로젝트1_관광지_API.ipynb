{
 "cells": [
  {
   "cell_type": "code",
   "execution_count": 17,
   "id": "74b72d57",
   "metadata": {},
   "outputs": [],
   "source": [
    "import requests\n",
    "from bs4 import BeautifulSoup\n",
    "import pandas as pd"
   ]
  },
  {
   "cell_type": "code",
   "execution_count": null,
   "id": "b6f1803b",
   "metadata": {},
   "outputs": [],
   "source": []
  },
  {
   "cell_type": "code",
   "execution_count": 18,
   "id": "c3844060",
   "metadata": {},
   "outputs": [],
   "source": [
    "# url 및 서비스 키\n",
    "endpoint = 'http://api.visitkorea.or.kr/openapi/service/rest/KorService/areaBasedList?'\n",
    "serviceKey = 'QbROVH1y7QqsyRX52kn7PUAjo3X1CrQPqTNILoCro8N1RgEA%2FH%2BCjTlPXH0eq2zl4sRecMfHxmpYXAYdNl6mMA%3D%3D'"
   ]
  },
  {
   "cell_type": "code",
   "execution_count": 19,
   "id": "b70b1a7a",
   "metadata": {},
   "outputs": [],
   "source": [
    "# serviceKey_decode = requests.utils.unquote(serviceKey)\n",
    "# serviceKey_decode"
   ]
  },
  {
   "cell_type": "code",
   "execution_count": 20,
   "id": "cc1af48e",
   "metadata": {},
   "outputs": [],
   "source": [
    "pageNo = \"1\"\n",
    "numOfRows = \"3000\"\n",
    "MobileApp = \"AppTest\"\n",
    "MobileOS = \"ETC\"\n",
    "arrange = \"A\"\n",
    "contentTypeId = \"12\"\n",
    "areaCode = \"37\"\n",
    "sigunguCode = \"12\"\n",
    "listYN = \"Y\""
   ]
  },
  {
   "cell_type": "code",
   "execution_count": 21,
   "id": "49581bc6",
   "metadata": {},
   "outputs": [],
   "source": [
    "paramset = \"serviceKey=\" + serviceKey +\"&\" \\\n",
    "            + \"MobileApp=\" + MobileApp +\"&\"  \\\n",
    "            + \"MobileOS=\" + MobileOS + \"&\" \\\n",
    "            + \"arrange=\" + arrange +\"&\" \\\n",
    "            + \"numOfRows=\" + numOfRows +\"&\" \\\n",
    "            + \"contentTypeId=\" + contentTypeId +\"&\" \\\n",
    "            + \"areaCode=\" + areaCode +\"&\" \\\n",
    "            + \"sigunguCode=\" + sigunguCode +\"&\" \\\n",
    "            + \"listYN=\" + listYN +\"&\" \\\n",
    "            + \"pageNo=\" + pageNo"
   ]
  },
  {
   "cell_type": "code",
   "execution_count": 22,
   "id": "a8034dec",
   "metadata": {},
   "outputs": [
    {
     "data": {
      "text/plain": [
       "'serviceKey=QbROVH1y7QqsyRX52kn7PUAjo3X1CrQPqTNILoCro8N1RgEA%2FH%2BCjTlPXH0eq2zl4sRecMfHxmpYXAYdNl6mMA%3D%3D&MobileApp=AppTest&MobileOS=ETC&arrange=A&numOfRows=3000&contentTypeId=12&areaCode=37&sigunguCode=12&listYN=Y&pageNo=1'"
      ]
     },
     "execution_count": 22,
     "metadata": {},
     "output_type": "execute_result"
    }
   ],
   "source": [
    "paramset"
   ]
  },
  {
   "cell_type": "code",
   "execution_count": 23,
   "id": "5b1c2143",
   "metadata": {},
   "outputs": [
    {
     "data": {
      "text/plain": [
       "'http://api.visitkorea.or.kr/openapi/service/rest/KorService/areaBasedList?serviceKey=QbROVH1y7QqsyRX52kn7PUAjo3X1CrQPqTNILoCro8N1RgEA%2FH%2BCjTlPXH0eq2zl4sRecMfHxmpYXAYdNl6mMA%3D%3D&MobileApp=AppTest&MobileOS=ETC&arrange=A&numOfRows=3000&contentTypeId=12&areaCode=37&sigunguCode=12&listYN=Y&pageNo=1'"
      ]
     },
     "execution_count": 23,
     "metadata": {},
     "output_type": "execute_result"
    }
   ],
   "source": [
    "url = endpoint + paramset\n",
    "url # url 결과를 주소창에 입력하면 보기 편하게 나타남"
   ]
  },
  {
   "cell_type": "code",
   "execution_count": 24,
   "id": "6af173ea",
   "metadata": {},
   "outputs": [],
   "source": [
    "result = requests.get(url) # api 서비스 호출\n",
    "bs_obj = BeautifulSoup(result.content,\"html.parser\")"
   ]
  },
  {
   "cell_type": "code",
   "execution_count": 25,
   "id": "b7e1d29b",
   "metadata": {},
   "outputs": [
    {
     "name": "stdout",
     "output_type": "stream",
     "text": [
      "<Response [200]>\n"
     ]
    }
   ],
   "source": [
    "print(result)"
   ]
  },
  {
   "cell_type": "code",
   "execution_count": 26,
   "id": "b756663e",
   "metadata": {},
   "outputs": [
    {
     "data": {
      "text/plain": [
       "<?xml version=\"1.0\" encoding=\"UTF-8\" standalone=\"yes\"?><response><header><resultcode>0000</resultcode><resultmsg>OK</resultmsg></header><body><items><item><addr1>전라북도 전주시 덕진구</addr1><addr2>(덕진동1가)</addr2><areacode>37</areacode><cat1>A01</cat1><cat2>A0101</cat2><cat3>A01010400</cat3><contentid>2724379</contentid><contenttypeid>12</contenttypeid><createdtime>20210705105538</createdtime><mapx>127.1391338273</mapx><mapy>35.8513293678</mapy><mlevel>6</mlevel><modifiedtime>20210706105512</modifiedtime><readcount>0</readcount><sigungucode>12</sigungucode><title>건지산</title><zipcode>54901</zipcode></item><item><addr1>전라북도 전주시 완산구 태조로 44</addr1><addr2>(풍남동3가)</addr2><areacode>37</areacode><cat1>A02</cat1><cat2>A0201</cat2><cat3>A02010700</cat3><contentid>147656</contentid><contenttypeid>12</contenttypeid><createdtime>20040203000000</createdtime><firstimage>http://tong.visitkorea.or.kr/cms/resource/80/2648780_image2_1.jpg</firstimage><firstimage2>http://tong.visitkorea.or.kr/cms/resource/80/2648780_image3_1.jpg</firstimage2><mapx>127.1498643734</mapx><mapy>35.8152058871</mapy><mlevel>6</mlevel><modifiedtime>20210706100223</modifiedtime><readcount>56618</readcount><sigungucode>12</sigungucode><title>경기전</title><zipcode>55042</zipcode></item><item><addr1>전라북도 전주시 완산구 남고산성1길 159-9</addr1><addr2>(동서학동)</addr2><areacode>37</areacode><cat1>A02</cat1><cat2>A0201</cat2><cat3>A02010700</cat3><contentid>126623</contentid><contenttypeid>12</contenttypeid><createdtime>20020513000000</createdtime><mapx>127.1610833184</mapx><mapy>35.7961332505</mapy><mlevel>6</mlevel><modifiedtime>20200326154744</modifiedtime><readcount>21386</readcount><sigungucode>12</sigungucode><title>관성묘</title><zipcode>55113</zipcode></item><item><addr1>전라북도 전주시 완산구 남고산성1길 53-88</addr1><addr2>(동서학동)</addr2><areacode>37</areacode><cat1>A02</cat1><cat2>A0201</cat2><cat3>A02010800</cat3><contentid>298199</contentid><contenttypeid>12</contenttypeid><createdtime>20071127154942</createdtime><firstimage>http://tong.visitkorea.or.kr/cms/resource/25/1605525_image2_1.jpg</firstimage><firstimage2>http://tong.visitkorea.or.kr/cms/resource/25/1605525_image3_1.jpg</firstimage2><mapx>127.1589500803</mapx><mapy>35.7997439139</mapy><mlevel>6</mlevel><modifiedtime>20210222173457</modifiedtime><readcount>21484</readcount><sigungucode>12</sigungucode><title>남고사(전주)</title><zipcode>55113</zipcode></item><item><addr1>전라북도 전주시 완산구 천경로 40</addr1><addr2>(동서학동) 부근</addr2><areacode>37</areacode><cat1>A02</cat1><cat2>A0201</cat2><cat3>A02010700</cat3><contentid>1594796</contentid><contenttypeid>12</contenttypeid><createdtime>20120405133449</createdtime><firstimage>http://tong.visitkorea.or.kr/cms/resource/15/2040715_image2_1.jpg</firstimage><firstimage2>http://tong.visitkorea.or.kr/cms/resource/15/2040715_image3_1.jpg</firstimage2><mapx>127.1531753073</mapx><mapy>35.8107203432</mapy><mlevel>6</mlevel><modifiedtime>20210311171133</modifiedtime><readcount>21387</readcount><sigungucode>12</sigungucode><title>남천교 청연루</title><zipcode>55101</zipcode></item><item><addr1>전라북도 전주시 완산구</addr1><addr2>(중화산동1가)</addr2><areacode>37</areacode><cat1>A02</cat1><cat2>A0202</cat2><cat3>A02020700</cat3><contentid>1592428</contentid><contenttypeid>12</contenttypeid><createdtime>20120404133419</createdtime><firstimage>http://tong.visitkorea.or.kr/cms/resource/37/1605537_image2_1.jpg</firstimage><firstimage2>http://tong.visitkorea.or.kr/cms/resource/37/1605537_image3_1.jpg</firstimage2><mapx>127.1377932551</mapx><mapy>35.8140613627</mapy><mlevel>6</mlevel><modifiedtime>20210813160049</modifiedtime><readcount>18855</readcount><sigungucode>12</sigungucode><title>다가공원</title><zipcode>55046</zipcode></item><item><addr1>전라북도 전주시 덕진구 권삼득로 390</addr1><areacode>37</areacode><cat1>A02</cat1><cat2>A0202</cat2><cat3>A02020700</cat3><contentid>126320</contentid><contenttypeid>12</contenttypeid><createdtime>20031105000000</createdtime><firstimage>http://tong.visitkorea.or.kr/cms/resource/93/2366393_image2_1.jpg</firstimage><firstimage2>http://tong.visitkorea.or.kr/cms/resource/93/2366393_image3_1.jpg</firstimage2><mapx>127.1218687977</mapx><mapy>35.8475156135</mapy><mlevel>6</mlevel><modifiedtime>20210702143009</modifiedtime><readcount>46209</readcount><sigungucode>12</sigungucode><title>덕진공원</title><zipcode>54895</zipcode></item><item><addr1>전라북도 전주시 완산구 낙수정2길 103-100</addr1><addr2>(교동)</addr2><areacode>37</areacode><cat1>A02</cat1><cat2>A0201</cat2><cat3>A02010800</cat3><contentid>301276</contentid><contenttypeid>12</contenttypeid><createdtime>20071128172753</createdtime><firstimage>http://tong.visitkorea.or.kr/cms/resource/98/1605498_image2_1.jpg</firstimage><firstimage2>http://tong.visitkorea.or.kr/cms/resource/98/1605498_image3_1.jpg</firstimage2><mapx>127.1677212648</mapx><mapy>35.8095957238</mapy><mlevel>6</mlevel><modifiedtime>20210315152435</modifiedtime><readcount>22365</readcount><sigungucode>12</sigungucode><title>동고사(전주)</title><zipcode>55110</zipcode></item><item><addr1>전라북도 전주시 완산구 대성동</addr1><areacode>37</areacode><cat1>A02</cat1><cat2>A0201</cat2><cat3>A02010700</cat3><contentid>1595444</contentid><contenttypeid>12</contenttypeid><createdtime>20120406100428</createdtime><mapx>127.1729902131</mapx><mapy>35.8106429186</mapy><mlevel>6</mlevel><modifiedtime>20210406164533</modifiedtime><readcount>17604</readcount><sigungucode>12</sigungucode><title>동고산성</title><zipcode>55109</zipcode></item><item><addr1>전라북도 전주시 완산구 은행로 33-6</addr1><addr2>(풍남동3가)</addr2><areacode>37</areacode><cat1>A02</cat1><cat2>A0203</cat2><cat3>A02030200</cat3><contentid>561983</contentid><contenttypeid>12</contenttypeid><createdtime>20080520152820</createdtime><firstimage>http://tong.visitkorea.or.kr/cms/resource/24/1035824_image2_1.jpg</firstimage><firstimage2>http://tong.visitkorea.or.kr/cms/resource/24/1035824_image3_1.jpg</firstimage2><mapx>127.1529168367</mapx><mapy>35.8168446419</mapy><mlevel>6</mlevel><modifiedtime>20210315160339</modifiedtime><readcount>26263</readcount><sigungucode>12</sigungucode><title>동락원</title><zipcode>55041</zipcode></item><item><addr1>전라북도 전주시 완산구 황학1길 11-24</addr1><addr2>(동서학동)</addr2><areacode>37</areacode><cat1>A02</cat1><cat2>A0201</cat2><cat3>A02010700</cat3><contentid>1956982</contentid><contenttypeid>12</contenttypeid><createdtime>20141016095046</createdtime><firstimage>http://tong.visitkorea.or.kr/cms/resource/38/2040738_image2_1.jpg</firstimage><firstimage2>http://tong.visitkorea.or.kr/cms/resource/38/2040738_image3_1.jpg</firstimage2><mapx>127.1557196066</mapx><mapy>35.8076151849</mapy><mlevel>6</mlevel><modifiedtime>20210421145618</modifiedtime><readcount>3919</readcount><sigungucode>12</sigungucode><title>반곡서원(진주)</title><zipcode>55101</zipcode></item><item><addr1>전라북도 전주시 완산구 남고산성1길 53-140</addr1><addr2>(동서학동)</addr2><areacode>37</areacode><cat1>A02</cat1><cat2>A0201</cat2><cat3>A02010800</cat3><contentid>317526</contentid><contenttypeid>12</contenttypeid><createdtime>20071204125317</createdtime><firstimage>http://tong.visitkorea.or.kr/cms/resource/34/1605534_image2_1.jpg</firstimage><firstimage2>http://tong.visitkorea.or.kr/cms/resource/34/1605534_image3_1.jpg</firstimage2><mapx>127.1579695397</mapx><mapy>35.8025213588</mapy><mlevel>6</mlevel><modifiedtime>20201022135037</modifiedtime><readcount>20705</readcount><sigungucode>12</sigungucode><title>불정사(전주)</title><zipcode>55113</zipcode></item><item><addr1>전라북도 전주시 덕진구 한배미6길 55</addr1><addr2>(인후동1가)</addr2><areacode>37</areacode><cat1>A02</cat1><cat2>A0201</cat2><cat3>A02010800</cat3><contentid>318341</contentid><contenttypeid>12</contenttypeid><createdtime>20071206102206</createdtime><mapx>127.1686681343</mapx><mapy>35.8198501293</mapy><mlevel>6</mlevel><modifiedtime>20201020155348</modifiedtime><readcount>20560</readcount><sigungucode>12</sigungucode><title>선린사(전주)</title><zipcode>55030</zipcode></item><item><addr1>전라북도 전주시 완산구 바람쐬는길 47-13</addr1><addr2>(교동)</addr2><areacode>37</areacode><cat1>A02</cat1><cat2>A0201</cat2><cat3>A02010800</cat3><contentid>319707</contentid><contenttypeid>12</contenttypeid><createdtime>20071207153510</createdtime><firstimage>http://tong.visitkorea.or.kr/cms/resource/98/1606398_image2_1.jpg</firstimage><firstimage2>http://tong.visitkorea.or.kr/cms/resource/98/1606398_image3_1.jpg</firstimage2><mapx>127.1642354769</mapx><mapy>35.8090735002</mapy><mlevel>6</mlevel><modifiedtime>20210601141351</modifiedtime><readcount>20914</readcount><sigungucode>12</sigungucode><title>승암사(전주)</title><zipcode>55110</zipcode></item><item><addr1>전라북도 전주시 덕진구 도당산로 46-10</addr1><addr2>(우아동3가)</addr2><areacode>37</areacode><cat1>A02</cat1><cat2>A0201</cat2><cat3>A02010800</cat3><contentid>337432</contentid><contenttypeid>12</contenttypeid><createdtime>20071217154254</createdtime><firstimage>http://tong.visitkorea.or.kr/cms/resource/54/1605454_image2_1.jpg</firstimage><firstimage2>http://tong.visitkorea.or.kr/cms/resource/54/1605454_image3_1.jpg</firstimage2><mapx>127.1583906107</mapx><mapy>35.8450776364</mapy><mlevel>6</mlevel><modifiedtime>20201019161854</modifiedtime><readcount>21107</readcount><sigungucode>12</sigungucode><title>약수암(전주)</title><zipcode>54911</zipcode></item><item><addr1>전라북도 전주시 완산구 풍남동3가 102</addr1><addr2>(풍남동3가)</addr2><areacode>37</areacode><cat1>A02</cat1><cat2>A0201</cat2><cat3>A02010700</cat3><contentid>1594308</contentid><contenttypeid>12</contenttypeid><createdtime>20120405095514</createdtime><mapx>127.1499976990</mapx><mapy>35.8150475742</mapy><mlevel>6</mlevel><modifiedtime>20200414171042</modifiedtime><readcount>18923</readcount><sigungucode>12</sigungucode><title>예종대왕태실 및 비</title><zipcode>55036</zipcode></item><item><addr1>전라북도 전주시 완산구 기린대로 55</addr1><addr2>(교동)</addr2><areacode>37</areacode><cat1>A02</cat1><cat2>A0201</cat2><cat3>A02010700</cat3><contentid>126621</contentid><contenttypeid>12</contenttypeid><createdtime>20030819000000</createdtime><firstimage>http://tong.visitkorea.or.kr/cms/resource/05/2366405_image2_1.jpg</firstimage><firstimage2>http://tong.visitkorea.or.kr/cms/resource/05/2366405_image3_1.jpg</firstimage2><mapx>127.1549167326</mapx><mapy>35.8140088883</mapy><mlevel>6</mlevel><modifiedtime>20200925134509</modifiedtime><readcount>42748</readcount><sigungucode>12</sigungucode><title>오목대와 이목대</title><zipcode>55045</zipcode></item><item><addr1>전라북도 전주시 덕진구 송천동 1가</addr1><areacode>37</areacode><cat1>A01</cat1><cat2>A0101</cat2><cat3>A01010500</cat3><contentid>1587082</contentid><contenttypeid>12</contenttypeid><createdtime>20120330163205</createdtime><firstimage>http://tong.visitkorea.or.kr/cms/resource/58/2040758_image2_1.jpg</firstimage><firstimage2>http://tong.visitkorea.or.kr/cms/resource/58/2040758_image3_1.jpg</firstimage2><mapx>127.1366809902</mapx><mapy>35.8619308970</mapy><mlevel>6</mlevel><modifiedtime>20210713095735</modifiedtime><readcount>19880</readcount><sigungucode>12</sigungucode><title>오송제</title><zipcode>54824</zipcode></item><item><addr1>전라북도 전주시 완산구 공수내1길 19-4</addr1><areacode>37</areacode><cat1>A02</cat1><cat2>A0202</cat2><cat3>A02020700</cat3><contentid>126627</contentid><contenttypeid>12</contenttypeid><createdtime>20031029000000</createdtime><firstimage>http://tong.visitkorea.or.kr/cms/resource/22/2490822_image2_1.jpg</firstimage><firstimage2>http://tong.visitkorea.or.kr/cms/resource/22/2490822_image3_1.jpg</firstimage2><mapx>127.1424042181</mapx><mapy>35.8040348058</mapy><mlevel>6</mlevel><modifiedtime>20210720164003</modifiedtime><readcount>27645</readcount><sigungucode>12</sigungucode><title>완산칠봉(완산공원)</title><zipcode>55102</zipcode></item><item><addr1>전라북도 전주시 덕진구 원동회룡길 59-3</addr1><addr2>(원동)</addr2><areacode>37</areacode><cat1>A02</cat1><cat2>A0201</cat2><cat3>A02010700</cat3><contentid>1957026</contentid><contenttypeid>12</contenttypeid><createdtime>20141016112147</createdtime><firstimage>http://tong.visitkorea.or.kr/cms/resource/66/2689566_image2_1.jpg</firstimage><firstimage2>http://tong.visitkorea.or.kr/cms/resource/66/2689566_image3_1.jpg</firstimage2><mapx>127.0401730930</mapx><mapy>35.8552827595</mapy><mlevel>6</mlevel><modifiedtime>20201202132946</modifiedtime><readcount>1952</readcount><sigungucode>12</sigungucode><title>용강서원</title><zipcode>54803</zipcode></item><item><addr1>전라북도 전주시 완산구 교동</addr1><areacode>37</areacode><cat1>A02</cat1><cat2>A0203</cat2><cat3>A02030600</cat3><contentid>2606603</contentid><contenttypeid>12</contenttypeid><createdtime>20190614142358</createdtime><firstimage>http://tong.visitkorea.or.kr/cms/resource/89/2511489_image2_1.jpg</firstimage><firstimage2>http://tong.visitkorea.or.kr/cms/resource/89/2511489_image3_1.jpg</firstimage2><mapx>127.1572165278</mapx><mapy>35.8140450355</mapy><mlevel>6</mlevel><modifiedtime>20210106170553</modifiedtime><readcount>0</readcount><sigungucode>12</sigungucode><title>자만마을 벽화갤러리</title><zipcode>55037</zipcode></item><item><addr1>전라북도 전주시 완산구 향교길 119-6</addr1><addr2>(교동, 전주전통문화연수원)</addr2><areacode>37</areacode><cat1>A02</cat1><cat2>A0201</cat2><cat3>A02010400</cat3><contentid>1594746</contentid><contenttypeid>12</contenttypeid><createdtime>20120405132038</createdtime><firstimage>http://tong.visitkorea.or.kr/cms/resource/28/2040728_image2_1.jpg</firstimage><firstimage2>http://tong.visitkorea.or.kr/cms/resource/28/2040728_image3_1.jpg</firstimage2><mapx>127.1566555025</mapx><mapy>35.8126451848</mapy><mlevel>6</mlevel><modifiedtime>20200225170136</modifiedtime><readcount>19362</readcount><sigungucode>12</sigungucode><title>장현식고택</title><zipcode>55045</zipcode></item><item><addr1>전라북도 전주시 완산구 동서학동 641</addr1><areacode>37</areacode><cat1>A02</cat1><cat2>A0201</cat2><cat3>A02010200</cat3><contentid>126620</contentid><contenttypeid>12</contenttypeid><createdtime>20020607000000</createdtime><firstimage>http://tong.visitkorea.or.kr/cms/resource/87/1606387_image2_1.jpg</firstimage><firstimage2>http://tong.visitkorea.or.kr/cms/resource/87/1606387_image3_1.jpg</firstimage2><mapx>127.1581474630</mapx><mapy>35.7963415092</mapy><mlevel>6</mlevel><modifiedtime>20210521113419</modifiedtime><readcount>29235</readcount><sigungucode>12</sigungucode><title>전주 남고산성</title><zipcode>55113</zipcode></item><item><addr1>전라북도 전주시 완산구 현무2길 38</addr1><addr2>(경원동3가)</addr2><areacode>37</areacode><cat1>A02</cat1><cat2>A0203</cat2><cat3>A02030600</cat3><contentid>2606577</contentid><contenttypeid>12</contenttypeid><createdtime>20190614140021</createdtime><firstimage>http://tong.visitkorea.or.kr/cms/resource/51/2369251_image2_1.jpg</firstimage><firstimage2>http://tong.visitkorea.or.kr/cms/resource/51/2369251_image3_1.jpg</firstimage2><mapx>127.1498197769</mapx><mapy>35.8211690965</mapy><mlevel>6</mlevel><modifiedtime>20201208145424</modifiedtime><readcount>0</readcount><sigungucode>12</sigungucode><title>전주 동문예술거리</title><zipcode>55000</zipcode></item><item><addr1>전라북도 전주시 완산구 교동</addr1><addr2>(교동)</addr2><areacode>37</areacode><cat1>A02</cat1><cat2>A0203</cat2><cat3>A02030600</cat3><contentid>2606240</contentid><contenttypeid>12</contenttypeid><createdtime>20190612164829</createdtime><firstimage>http://tong.visitkorea.or.kr/cms/resource/62/2369262_image2_1.jpg</firstimage><firstimage2>http://tong.visitkorea.or.kr/cms/resource/62/2369262_image3_1.jpg</firstimage2><mapx>127.1572165278</mapx><mapy>35.8140450355</mapy><mlevel>6</mlevel><modifiedtime>20210412171403</modifiedtime><readcount>0</readcount><sigungucode>12</sigungucode><title>전주 산성벽화마을</title><zipcode>55037</zipcode></item><item><addr1>전라북도 전주시 완산구 간납로 1</addr1><addr2>(풍남동3가) 3층</addr2><areacode>37</areacode><cat1>A02</cat1><cat2>A0204</cat2><cat3>A02040600</cat3><contentid>2599911</contentid><contenttypeid>12</contenttypeid><createdtime>20190429132647</createdtime><mapx>127.1529723096</mapx><mapy>35.8198054175</mapy><modifiedtime>20210618133823</modifiedtime><readcount>20</readcount><sigungucode>12</sigungucode><title>전주 초코파이 체험장</title><zipcode>55036</zipcode></item><item><addr1>전라북도 전주시 완산구 풍남문3길 1</addr1><addr2>(전동)</addr2><areacode>37</areacode><cat1>A02</cat1><cat2>A0201</cat2><cat3>A02010300</cat3><contentid>126622</contentid><contenttypeid>12</contenttypeid><createdtime>20030922000000</createdtime><firstimage>http://tong.visitkorea.or.kr/cms/resource/65/1605565_image2_1.jpg</firstimage><firstimage2>http://tong.visitkorea.or.kr/cms/resource/65/1605565_image3_1.jpg</firstimage2><mapx>127.1486672969</mapx><mapy>35.8137060365</mapy><mlevel>6</mlevel><modifiedtime>20210729095634</modifiedtime><readcount>34543</readcount><sigungucode>12</sigungucode><title>전주 풍남문</title><zipcode>55043</zipcode></item><item><addr1>전라북도 전주시 완산구 충경로 59</addr1><areacode>37</areacode><cat1>A02</cat1><cat2>A0201</cat2><cat3>A02010400</cat3><contentid>126387</contentid><contenttypeid>12</contenttypeid><createdtime>20030819000000</createdtime><firstimage>http://tong.visitkorea.or.kr/cms/resource/59/1606459_image2_1.jpg</firstimage><firstimage2>http://tong.visitkorea.or.kr/cms/resource/59/1606459_image3_1.jpg</firstimage2><mapx>127.1451286034</mapx><mapy>35.8182860101</mapy><mlevel>6</mlevel><modifiedtime>20210730143857</modifiedtime><readcount>34178</readcount><sigungucode>12</sigungucode><title>전주 풍패지관 (전주객사)</title><zipcode>54999</zipcode></item><item><addr1>전라북도 전주시 덕진구 소리로 68</addr1><areacode>37</areacode><cat1>A02</cat1><cat2>A0202</cat2><cat3>A02020600</cat3><contentid>126626</contentid><contenttypeid>12</contenttypeid><createdtime>20031107000000</createdtime><firstimage>http://tong.visitkorea.or.kr/cms/resource/01/1605401_image2_1.jpg</firstimage><firstimage2>http://tong.visitkorea.or.kr/cms/resource/01/1605401_image3_1.jpg</firstimage2><mapx>127.1456331460</mapx><mapy>35.8552623666</mapy><mlevel>6</mlevel><modifiedtime>20210319144716</modifiedtime><readcount>35497</readcount><sigungucode>12</sigungucode><title>전주동물원</title><zipcode>54901</zipcode></item><item><addr1>전라북도 전주시 완산구 향교길 119-6</addr1><addr2>(교동)</addr2><areacode>37</areacode><cat1>A02</cat1><cat2>A0201</cat2><cat3>A02010700</cat3><contentid>1595497</contentid><contenttypeid>12</contenttypeid><createdtime>20120406102857</createdtime><firstimage>http://tong.visitkorea.or.kr/cms/resource/17/2040717_image2_1.jpg</firstimage><firstimage2>http://tong.visitkorea.or.kr/cms/resource/17/2040717_image3_1.jpg</firstimage2><mapx>127.1566555025</mapx><mapy>35.8126451848</mapy><mlevel>6</mlevel><modifiedtime>20210421154007</modifiedtime><readcount>19573</readcount><sigungucode>12</sigungucode><title>전주동헌</title><zipcode>55045</zipcode></item><item><addr1>전라북도 전주시 완산구 전주천동로 46</addr1><addr2>(교동)</addr2><areacode>37</areacode><cat1>A02</cat1><cat2>A0203</cat2><cat3>A02030200</cat3><contentid>1594500</contentid><contenttypeid>12</contenttypeid><createdtime>20120405104604</createdtime><firstimage>http://tong.visitkorea.or.kr/cms/resource/94/2040694_image2_1.jpg</firstimage><firstimage2>http://tong.visitkorea.or.kr/cms/resource/94/2040694_image3_1.jpg</firstimage2><mapx>127.1556500663</mapx><mapy>35.8115147404</mapy><mlevel>6</mlevel><modifiedtime>20210108144549</modifiedtime><readcount>20441</readcount><sigungucode>12</sigungucode><title>전주목판서화체험관</title><zipcode>55045</zipcode></item><item><addr1>전라북도 전주시 완산구 태조로 51</addr1><addr2>(전동)</addr2><areacode>37</areacode><cat1>A02</cat1><cat2>A0201</cat2><cat3>A02010900</cat3><contentid>250331</contentid><contenttypeid>12</contenttypeid><createdtime>20071023000000</createdtime><firstimage>http://tong.visitkorea.or.kr/cms/resource/89/2641989_image2_1.jpg</firstimage><firstimage2>http://tong.visitkorea.or.kr/cms/resource/89/2641989_image3_1.jpg</firstimage2><mapx>127.1492172583</mapx><mapy>35.8133088689</mapy><mlevel>6</mlevel><modifiedtime>20200925132104</modifiedtime><readcount>62284</readcount><sigungucode>12</sigungucode><title>전주전동성당</title><zipcode>55044</zipcode></item><item><addr1>전라북도 전주시 완산구 한지길 100-10</addr1><addr2>(풍남동3가)</addr2><areacode>37</areacode><cat1>A02</cat1><cat2>A0203</cat2><cat3>A02030200</cat3><contentid>1594374</contentid><contenttypeid>12</contenttypeid><createdtime>20120405102244</createdtime><firstimage>http://tong.visitkorea.or.kr/cms/resource/99/2040699_image2_1.jpg</firstimage><firstimage2>http://tong.visitkorea.or.kr/cms/resource/99/2040699_image3_1.jpg</firstimage2><mapx>127.1535251414</mapx><mapy>35.8158780959</mapy><mlevel>6</mlevel><modifiedtime>20210326133131</modifiedtime><readcount>22053</readcount><sigungucode>12</sigungucode><title>전주전통한지원</title><zipcode>55041</zipcode></item><item><addr1>전라북도 전주시 완산구 은행로 12</addr1><addr2>(풍남동1가)</addr2><areacode>37</areacode><cat1>A02</cat1><cat2>A0203</cat2><cat3>A02030400</cat3><contentid>2539757</contentid><contenttypeid>12</contenttypeid><createdtime>20180316133950</createdtime><firstimage>http://tong.visitkorea.or.kr/cms/resource/49/2539749_image2_1.JPG</firstimage><firstimage2>http://tong.visitkorea.or.kr/cms/resource/49/2539749_image2_1.JPG</firstimage2><mapx>127.1516474539</mapx><mapy>35.8187999532</mapy><mlevel>6</mlevel><modifiedtime>20210310151008</modifiedtime><readcount>2435</readcount><sigungucode>12</sigungucode><title>전주한옥마을 임실치즈체험장</title><zipcode>55039</zipcode></item><item><addr1>전라북도 전주시 완산구 어진길 29</addr1><addr2>(풍남동3가)</addr2><areacode>37</areacode><cat1>A02</cat1><cat2>A0203</cat2><cat3>A02030200</cat3><contentid>127854</contentid><contenttypeid>12</contenttypeid><createdtime>20030609000000</createdtime><firstimage>http://tong.visitkorea.or.kr/cms/resource/81/2550981_image2_1.bmp</firstimage><firstimage2>http://tong.visitkorea.or.kr/cms/resource/81/2550981_image2_1.bmp</firstimage2><mapx>127.1529112583</mapx><mapy>35.8177334298</mapy><mlevel>6</mlevel><modifiedtime>20210120162355</modifiedtime><readcount>52988</readcount><sigungucode>12</sigungucode><title>전주한옥마을 전주김치문화관</title><zipcode>55041</zipcode></item><item><addr1>전라북도 전주시 완산구 기린대로 99</addr1><addr2>(남노송동)</addr2><areacode>37</areacode><cat1>A02</cat1><cat2>A0201</cat2><cat3>A02010600</cat3><contentid>264284</contentid><contenttypeid>12</contenttypeid><createdtime>20021219122036</createdtime><firstimage>http://tong.visitkorea.or.kr/cms/resource/67/2654567_image2_1.jpg</firstimage><firstimage2>http://tong.visitkorea.or.kr/cms/resource/67/2654567_image3_1.jpg</firstimage2><mapx>127.1536778411</mapx><mapy>35.8183333748</mapy><mlevel>6</mlevel><modifiedtime>20210702101054</modifiedtime><readcount>161478</readcount><sigungucode>12</sigungucode><title>전주한옥마을 [슬로시티]</title><zipcode>55040</zipcode></item><item><addr1>전라북도 전주시 완산구 향교길 139</addr1><addr2>(교동)</addr2><areacode>37</areacode><cat1>A02</cat1><cat2>A0201</cat2><cat3>A02010700</cat3><contentid>147684</contentid><contenttypeid>12</contenttypeid><createdtime>20040203000000</createdtime><firstimage>http://tong.visitkorea.or.kr/cms/resource/96/2644296_image2_1.jpg</firstimage><firstimage2>http://tong.visitkorea.or.kr/cms/resource/96/2644296_image3_1.jpg</firstimage2><mapx>127.1572360194</mapx><mapy>35.8121730261</mapy><mlevel>6</mlevel><modifiedtime>20210513163852</modifiedtime><readcount>48674</readcount><sigungucode>12</sigungucode><title>전주향교</title><zipcode>55045</zipcode></item><item><addr1>전라북도 전주시 완산구 외칠봉1길 36</addr1><addr2>(효자동1가)</addr2><areacode>37</areacode><cat1>A02</cat1><cat2>A0201</cat2><cat3>A02010800</cat3><contentid>479910</contentid><contenttypeid>12</contenttypeid><createdtime>20080220103458</createdtime><firstimage>http://tong.visitkorea.or.kr/cms/resource/12/1976112_image2_1.jpg</firstimage><firstimage2>http://tong.visitkorea.or.kr/cms/resource/12/1976112_image3_1.jpg</firstimage2><mapx>127.1391517230</mapx><mapy>35.8043013857</mapy><mlevel>6</mlevel><modifiedtime>20210126144258</modifiedtime><readcount>23121</readcount><sigungucode>12</sigungucode><title>정혜사(전주)</title><zipcode>55103</zipcode></item><item><addr1>전라북도 전주시 덕진구 덕진동</addr1><addr2>1가 산28</addr2><areacode>37</areacode><cat1>A02</cat1><cat2>A0201</cat2><cat3>A02010700</cat3><contentid>126624</contentid><contenttypeid>12</contenttypeid><createdtime>20020513000000</createdtime><firstimage>http://tong.visitkorea.or.kr/cms/resource/48/2040748_image2_1.jpg</firstimage><firstimage2>http://tong.visitkorea.or.kr/cms/resource/48/2040748_image3_1.jpg</firstimage2><mapx>127.1363368480</mapx><mapy>35.8515654042</mapy><mlevel>6</mlevel><modifiedtime>20210319174010</modifiedtime><readcount>26538</readcount><sigungucode>12</sigungucode><title>조경단</title><zipcode>54907</zipcode></item><item><addr1>전라북도 전주시 완산구 전주천서로 237</addr1><addr2>(중화산동1가)</addr2><areacode>37</areacode><cat1>A02</cat1><cat2>A0201</cat2><cat3>A02010700</cat3><contentid>1592606</contentid><contenttypeid>12</contenttypeid><createdtime>20120404143059</createdtime><mapx>127.1379682019</mapx><mapy>35.8155112011</mapy><mlevel>6</mlevel><modifiedtime>20200928141404</modifiedtime><readcount>17857</readcount><sigungucode>12</sigungucode><title>천양정</title><zipcode>55046</zipcode></item><item><addr1>전라북도 전주시 완산구 중인1길 272</addr1><addr2>(중인동)</addr2><areacode>37</areacode><cat1>A02</cat1><cat2>A0201</cat2><cat3>A02010700</cat3><contentid>1957104</contentid><contenttypeid>12</contenttypeid><createdtime>20141016153532</createdtime><mapx>127.0850022052</mapx><mapy>35.7574835502</mapy><mlevel>6</mlevel><modifiedtime>20210318173127</modifiedtime><readcount>2375</readcount><sigungucode>12</sigungucode><title>청하서원</title><zipcode>55144</zipcode></item><item><addr1>전라북도 전주시 완산구 남고산성1길 31</addr1><addr2>(동서학동)</addr2><areacode>37</areacode><cat1>A02</cat1><cat2>A0201</cat2><cat3>A02010700</cat3><contentid>126625</contentid><contenttypeid>12</contenttypeid><createdtime>20020513000000</createdtime><firstimage>http://tong.visitkorea.or.kr/cms/resource/14/1606514_image2_1.jpg</firstimage><firstimage2>http://tong.visitkorea.or.kr/cms/resource/14/1606514_image3_1.jpg</firstimage2><mapx>127.1569223410</mapx><mapy>35.8051793719</mapy><mlevel>6</mlevel><modifiedtime>20200416112445</modifiedtime><readcount>23875</readcount><sigungucode>12</sigungucode><title>충경사</title><zipcode>55113</zipcode></item><item><addr1>전라북도 전주시 완산구 바람쐬는길 89</addr1><addr2>(대성동)</addr2><areacode>37</areacode><cat1>A02</cat1><cat2>A0201</cat2><cat3>A02010900</cat3><contentid>127611</contentid><contenttypeid>12</contenttypeid><createdtime>20030820000000</createdtime><firstimage>http://tong.visitkorea.or.kr/cms/resource/89/198389_image2_1.jpg</firstimage><firstimage2>http://tong.visitkorea.or.kr/cms/resource/89/198389_image3_1.jpg</firstimage2><mapx>127.1673435504</mapx><mapy>35.8084514028</mapy><mlevel>6</mlevel><modifiedtime>20210415165054</modifiedtime><readcount>27299</readcount><sigungucode>12</sigungucode><title>치명자산성지</title><zipcode>55111</zipcode></item><item><addr1>전라북도 전주시 완산구 평화7길 49-67</addr1><addr2>(평화동2가)</addr2><areacode>37</areacode><cat1>A02</cat1><cat2>A0201</cat2><cat3>A02010800</cat3><contentid>485691</contentid><contenttypeid>12</contenttypeid><createdtime>20080225094342</createdtime><firstimage>http://tong.visitkorea.or.kr/cms/resource/60/1605560_image2_1.jpg</firstimage><firstimage2>http://tong.visitkorea.or.kr/cms/resource/60/1605560_image3_1.jpg</firstimage2><mapx>127.1455821604</mapx><mapy>35.7868979209</mapy><mlevel>6</mlevel><modifiedtime>20210224162814</modifiedtime><readcount>20129</readcount><sigungucode>12</sigungucode><title>학소암(전주)</title><zipcode>55125</zipcode></item><item><addr1>전라북도 전주시 덕진구 번영로 462-45</addr1><areacode>37</areacode><cat1>A01</cat1><cat2>A0101</cat2><cat3>A01010700</cat3><contentid>127045</contentid><contenttypeid>12</contenttypeid><createdtime>20040223000000</createdtime><firstimage>http://tong.visitkorea.or.kr/cms/resource/65/1605465_image2_1.jpg</firstimage><firstimage2>http://tong.visitkorea.or.kr/cms/resource/65/1605465_image3_1.jpg</firstimage2><mapx>127.0537992436</mapx><mapy>35.8711228582</mapy><mlevel>6</mlevel><modifiedtime>20210517093246</modifiedtime><readcount>52965</readcount><sigungucode>12</sigungucode><title>한국도로공사수목원</title><zipcode>54810</zipcode></item><item><addr1>전라북도 전주시 완산구 기린대로 2</addr1><addr2>(교동)</addr2><areacode>37</areacode><cat1>A02</cat1><cat2>A0201</cat2><cat3>A02010700</cat3><contentid>126388</contentid><contenttypeid>12</contenttypeid><createdtime>20020514000000</createdtime><firstimage>http://tong.visitkorea.or.kr/cms/resource/72/167072_image2_1.jpg</firstimage><firstimage2>http://tong.visitkorea.or.kr/cms/resource/72/167072_image3_1.jpg</firstimage2><mapx>127.1608384836</mapx><mapy>35.8118786778</mapy><mlevel>6</mlevel><modifiedtime>20200115101524</modifiedtime><readcount>24351</readcount><sigungucode>12</sigungucode><title>한벽당</title><zipcode>55110</zipcode></item><item><addr1>전라북도 전주시 완산구 중화산동</addr1><areacode>37</areacode><cat1>A02</cat1><cat2>A0201</cat2><cat3>A02010700</cat3><contentid>1595105</contentid><contenttypeid>12</contenttypeid><createdtime>20120405161143</createdtime><mapx>127.1300577870</mapx><mapy>35.8157943652</mapy><mlevel>6</mlevel><modifiedtime>20210423154612</modifiedtime><readcount>16807</readcount><sigungucode>12</sigungucode><title>화산서원비</title><zipcode>55046</zipcode></item><item><addr1>전라북도 전주시 완산구 황강서원5길 8-7</addr1><addr2>(효자동3가)</addr2><areacode>37</areacode><cat1>A02</cat1><cat2>A0201</cat2><cat3>A02010700</cat3><contentid>1595042</contentid><contenttypeid>12</contenttypeid><createdtime>20120405152239</createdtime><mapx>127.1038125497</mapx><mapy>35.8292368258</mapy><mlevel>6</mlevel><modifiedtime>20210318170547</modifiedtime><readcount>17282</readcount><sigungucode>12</sigungucode><title>황강서원</title><zipcode>54958</zipcode></item></items><numofrows>3000</numofrows><pageno>1</pageno><totalcount>48</totalcount></body></response>"
      ]
     },
     "execution_count": 26,
     "metadata": {},
     "output_type": "execute_result"
    }
   ],
   "source": [
    "bs_obj"
   ]
  },
  {
   "cell_type": "code",
   "execution_count": 27,
   "id": "c60aca4c",
   "metadata": {},
   "outputs": [],
   "source": [
    "# items = bs_obj.findAll('item')\n",
    "\n",
    "# # for item in items :\n",
    "# #     print(item.find('title').text, end=',')\n",
    "# #     print(item.find('addr1').text, end=',')\n",
    "# #     print(item.find('tel').text) #'NoneType' object has no attribute 'text' - 예외 처리가 필요함\n",
    "    \n",
    "# for item in items :\n",
    "#     try :\n",
    "#         print(item.find('gpslati').text, end=',')\n",
    "#         print(item.find('gpslong').text, end=',')\n",
    "#         print(item.find('nodenm').text)\n",
    "#         print(item.find('nodeid').text)\n",
    "#     except :\n",
    "#         print(' No data ')\n",
    "        \n",
    "items = bs_obj.findAll('item')\n",
    "\n",
    "# for item in items :\n",
    "#     print(item.find('title').text, end=',')\n",
    "#     print(item.find('addr1').text, end=',')\n",
    "#     print(item.find('tel').text) #'NoneType' object has no attribute 'text' - 예외 처리가 필요함\n",
    "\n",
    "title_i=[]\n",
    "map_x=[]\n",
    "map_y=[]\n",
    "\n",
    "for item in items :\n",
    "    try :\n",
    "        title_i.append(item.find('title').text)\n",
    "        map_x.append(item.find('mapx').text)        \n",
    "        map_y.append(item.find('mapy').text)\n",
    "    except :\n",
    "        print(' No data ')"
   ]
  },
  {
   "cell_type": "code",
   "execution_count": 28,
   "id": "57b9d641",
   "metadata": {},
   "outputs": [],
   "source": [
    "df=pd.DataFrame([title_i,map_x,map_y]).T\n",
    "df.columns=['관광지 이름','위도','경도']"
   ]
  },
  {
   "cell_type": "code",
   "execution_count": 29,
   "id": "03ed1355",
   "metadata": {},
   "outputs": [],
   "source": [
    "df.to_csv('전주_관광지.csv')"
   ]
  },
  {
   "cell_type": "code",
   "execution_count": null,
   "id": "ba3f8430",
   "metadata": {},
   "outputs": [],
   "source": []
  },
  {
   "cell_type": "code",
   "execution_count": null,
   "id": "fc2ee0f9",
   "metadata": {},
   "outputs": [],
   "source": []
  },
  {
   "cell_type": "code",
   "execution_count": null,
   "id": "acf2d674",
   "metadata": {},
   "outputs": [],
   "source": []
  }
 ],
 "metadata": {
  "kernelspec": {
   "display_name": "Python 3",
   "language": "python",
   "name": "python3"
  },
  "language_info": {
   "codemirror_mode": {
    "name": "ipython",
    "version": 3
   },
   "file_extension": ".py",
   "mimetype": "text/x-python",
   "name": "python",
   "nbconvert_exporter": "python",
   "pygments_lexer": "ipython3",
   "version": "3.8.8"
  }
 },
 "nbformat": 4,
 "nbformat_minor": 5
}
