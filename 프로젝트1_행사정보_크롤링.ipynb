{
 "cells": [
  {
   "cell_type": "code",
   "execution_count": 61,
   "id": "991d7b43",
   "metadata": {},
   "outputs": [],
   "source": [
    "from urllib.request import urlopen\n",
    "from bs4 import BeautifulSoup\n",
    "import pandas as pd\n",
    "import numpy as np"
   ]
  },
  {
   "cell_type": "code",
   "execution_count": 62,
   "id": "940f1cf6",
   "metadata": {},
   "outputs": [],
   "source": [
    "# 크롤링 문서 요청해서 응답객체 반환\n",
    "url=\"https://www.mcst.go.kr/kor/s_culture/festival/festivalList.jsp?pSeq=&pRo=&pOrder=01up&pPeriod=&fromDt=20180101&toDt=20181231&pSido=15&pSearchType=02&pSearchWord=%EB%AA%A9%ED%8F%AC&pCurrentPage=1\"\n",
    "html = urlopen(url)\n",
    "htmls = html.read()\n",
    "# print(htmls)\n",
    "bs_obj = BeautifulSoup(htmls,\"html.parser\")"
   ]
  },
  {
   "cell_type": "code",
   "execution_count": 63,
   "id": "77e602ee",
   "metadata": {},
   "outputs": [],
   "source": [
    "## 한 페이지에 모든 상품이 들어있는 ul 태그 추출\n",
    "# ul class:prdList grid4\n",
    "ul=bs_obj.find(\"ul\",{\"class\":\"mediaWrap color01\"})\n",
    "## 품목 1개를 담고 있는 div 태그 추출\n",
    "## div class:box\n",
    "prd_boxes= ul.findAll(\"div\", {\"class\":\"text\"})\n"
   ]
  },
  {
   "cell_type": "code",
   "execution_count": 64,
   "id": "0c6c6b61",
   "metadata": {},
   "outputs": [],
   "source": [
    "# box 안에 들어 있는 1개의 상품에서 정보를 추출해서 dict형태로 반환하는 함수\n",
    "def get_product_info(text) :\n",
    "    p_tag = text.find(\"p\",{\"class\":\"title\"})\n",
    "    price_ul = text.find(\"ul\")\n",
    "    price_span = price_ul.findAll(\"li\")\n",
    "    \n",
    "    # 가격 추출 코드\n",
    "\n",
    "    # 최종 data 추출 후 출력\n",
    "    \n",
    "    return{\"축제이름\":p_tag.text,\"기간\":price_span[0].text,\"장소\":price_span[1].text}\n"
   ]
  },
  {
   "cell_type": "code",
   "execution_count": 65,
   "id": "a0b97b88",
   "metadata": {},
   "outputs": [
    {
     "name": "stdout",
     "output_type": "stream",
     "text": [
      "{'축제이름': '목포 문화재야행 2018', '기간': '기간 : 2018.10.26~27 / 18:00~23:00', '장소': '장소 : 전라남도 목포시'}\n",
      "{'축제이름': '목포 문화재야행 2018', '기간': '기간 : 1차 : 2018.09.07~08, 2차 : 2018.10.26~27 / 18:00~23:00', '장소': '장소 : 전라남도 목포시'}\n",
      "{'축제이름': '목포항구축제 2018', '기간': '기간 : 2018. 10.5(금) ~10.7(일) / 10:00~22:00', '장소': '장소 : 전라남도 목포시'}\n",
      "{'축제이름': '목포세계마당페스티벌 2018', '기간': '기간 : 2018.08.31 ~2018.09.02 / 18:00~23:00', '장소': '장소 : 전라남도 목포시'}\n",
      "{'축제이름': '목포 이순신 수군 문화제 2018', '기간': '기간 : 2018.04.07~2018.04.08', '장소': '장소 : 전라남도 목포시'}\n"
     ]
    }
   ],
   "source": [
    "for text in prd_boxes :\n",
    "    product_info = get_product_info(text)\n",
    "    print(product_info)"
   ]
  },
  {
   "cell_type": "code",
   "execution_count": 66,
   "id": "131dfd3c",
   "metadata": {},
   "outputs": [],
   "source": [
    "# 전달된 url 페이지에 접근해서 해당 페이지의 전체 상품 데이터를 추출 한 후 각 상품마다  get_product_info()함수를 호출해서\n",
    "# 각 상품에 대한 추출 정보를 받아옴\n",
    "def get_page_products(url) :\n",
    "    url= url\n",
    "    html = urlopen(url)\n",
    "    htmls = html.read()\n",
    "    # print(htmls)\n",
    "    bs_obj = BeautifulSoup(htmls,\"html.parser\")\n",
    "    \n",
    "    ## 한 페이지에 모든 상품이 들어있는 ul 태그 추출\n",
    "    # ul class:prdList grid4\n",
    "    ul=bs_obj.find(\"ul\",{\"class\":\"mediaWrap color01\"})\n",
    "    ## 품목 1개를 담고 있는 div 태그 추출\n",
    "    ## div class:box\n",
    "    prd_boxes= ul.findAll(\"div\", {\"class\":\"text\"}) # 1개 페이지의 전체 상품\n",
    "    prod_info_list = [get_product_info(text) for text in prd_boxes]\n",
    "    # 저장되어 있는 리스트\n",
    "    return prod_info_list"
   ]
  },
  {
   "cell_type": "code",
   "execution_count": 67,
   "id": "ae5cf63a",
   "metadata": {},
   "outputs": [
    {
     "data": {
      "text/html": [
       "<div>\n",
       "<style scoped>\n",
       "    .dataframe tbody tr th:only-of-type {\n",
       "        vertical-align: middle;\n",
       "    }\n",
       "\n",
       "    .dataframe tbody tr th {\n",
       "        vertical-align: top;\n",
       "    }\n",
       "\n",
       "    .dataframe thead th {\n",
       "        text-align: right;\n",
       "    }\n",
       "</style>\n",
       "<table border=\"1\" class=\"dataframe\">\n",
       "  <thead>\n",
       "    <tr style=\"text-align: right;\">\n",
       "      <th></th>\n",
       "      <th>축제이름</th>\n",
       "      <th>기간</th>\n",
       "      <th>장소</th>\n",
       "    </tr>\n",
       "  </thead>\n",
       "  <tbody>\n",
       "    <tr>\n",
       "      <th>0</th>\n",
       "      <td>목포 문화재야행 2018</td>\n",
       "      <td>기간 : 2018.10.26~27 / 18:00~23:00</td>\n",
       "      <td>장소 : 전라남도 목포시</td>\n",
       "    </tr>\n",
       "    <tr>\n",
       "      <th>1</th>\n",
       "      <td>목포 문화재야행 2018</td>\n",
       "      <td>기간 : 1차 : 2018.09.07~08, 2차 : 2018.10.26~27 / ...</td>\n",
       "      <td>장소 : 전라남도 목포시</td>\n",
       "    </tr>\n",
       "    <tr>\n",
       "      <th>2</th>\n",
       "      <td>목포항구축제 2018</td>\n",
       "      <td>기간 : 2018. 10.5(금) ~10.7(일) / 10:00~22:00</td>\n",
       "      <td>장소 : 전라남도 목포시</td>\n",
       "    </tr>\n",
       "    <tr>\n",
       "      <th>3</th>\n",
       "      <td>목포세계마당페스티벌 2018</td>\n",
       "      <td>기간 : 2018.08.31 ~2018.09.02 / 18:00~23:00</td>\n",
       "      <td>장소 : 전라남도 목포시</td>\n",
       "    </tr>\n",
       "    <tr>\n",
       "      <th>4</th>\n",
       "      <td>목포 이순신 수군 문화제 2018</td>\n",
       "      <td>기간 : 2018.04.07~2018.04.08</td>\n",
       "      <td>장소 : 전라남도 목포시</td>\n",
       "    </tr>\n",
       "  </tbody>\n",
       "</table>\n",
       "</div>"
      ],
      "text/plain": [
       "                 축제이름                                                 기간  \\\n",
       "0       목포 문화재야행 2018                   기간 : 2018.10.26~27 / 18:00~23:00   \n",
       "1       목포 문화재야행 2018  기간 : 1차 : 2018.09.07~08, 2차 : 2018.10.26~27 / ...   \n",
       "2         목포항구축제 2018          기간 : 2018. 10.5(금) ~10.7(일) / 10:00~22:00   \n",
       "3     목포세계마당페스티벌 2018          기간 : 2018.08.31 ~2018.09.02 / 18:00~23:00   \n",
       "4  목포 이순신 수군 문화제 2018                         기간 : 2018.04.07~2018.04.08   \n",
       "\n",
       "              장소  \n",
       "0  장소 : 전라남도 목포시  \n",
       "1  장소 : 전라남도 목포시  \n",
       "2  장소 : 전라남도 목포시  \n",
       "3  장소 : 전라남도 목포시  \n",
       "4  장소 : 전라남도 목포시  "
      ]
     },
     "execution_count": 67,
     "metadata": {},
     "output_type": "execute_result"
    }
   ],
   "source": [
    "# 여러 페이지의 화장품 정보를 추출해서 df 에 저장 후 csv에 저장하는 코드\n",
    "url = \"https://www.mcst.go.kr/kor/s_culture/festival/festivalList.jsp?pSeq=&pRo=&pOrder=01up&pPeriod=&fromDt=20180101&toDt=20181231&pSido=15&pSearchType=02&pSearchWord=%EB%AA%A9%ED%8F%AC&pCurrentPage=\" # 페이지 번호를 제외한 공통 url 문자열\n",
    "#print(get_page_products(url))\n",
    "\n",
    "df_fin = pd.DataFrame()\n",
    "for i in range(1,4) :\n",
    "    # url 완성 : page 번호를 추가 i 변수 값을 활용\n",
    "    urlfin = url + str(i)\n",
    "    page_product = get_page_products(urlfin)\n",
    "    df = pd.DataFrame(page_product) # 현재 url로 접속한 페이지의 대해 수집된 제품정보를 df로 생성(한 개 페이지 제품)\n",
    "    df_fin = pd.concat([df_fin,df],axis=0,ignore_index=True)\n",
    "\n",
    "df_fin"
   ]
  },
  {
   "cell_type": "code",
   "execution_count": 68,
   "id": "533ffb04",
   "metadata": {},
   "outputs": [],
   "source": [
    "df_fin.to_csv('./crawl_data/목포_2018_축제.csv')"
   ]
  },
  {
   "cell_type": "code",
   "execution_count": null,
   "id": "f140edb6",
   "metadata": {},
   "outputs": [],
   "source": []
  },
  {
   "cell_type": "code",
   "execution_count": null,
   "id": "d81bf469",
   "metadata": {},
   "outputs": [],
   "source": []
  },
  {
   "cell_type": "code",
   "execution_count": null,
   "id": "184ed704",
   "metadata": {},
   "outputs": [],
   "source": []
  },
  {
   "cell_type": "code",
   "execution_count": null,
   "id": "8b4ab2e4",
   "metadata": {},
   "outputs": [],
   "source": []
  },
  {
   "cell_type": "code",
   "execution_count": null,
   "id": "6eb11cad",
   "metadata": {},
   "outputs": [],
   "source": []
  },
  {
   "cell_type": "code",
   "execution_count": null,
   "id": "2d32d57e",
   "metadata": {},
   "outputs": [],
   "source": []
  },
  {
   "cell_type": "code",
   "execution_count": null,
   "id": "03cefb3b",
   "metadata": {},
   "outputs": [],
   "source": []
  },
  {
   "cell_type": "code",
   "execution_count": null,
   "id": "841b8a18",
   "metadata": {},
   "outputs": [],
   "source": []
  },
  {
   "cell_type": "code",
   "execution_count": null,
   "id": "128a036a",
   "metadata": {},
   "outputs": [],
   "source": []
  }
 ],
 "metadata": {
  "kernelspec": {
   "display_name": "Python 3",
   "language": "python",
   "name": "python3"
  },
  "language_info": {
   "codemirror_mode": {
    "name": "ipython",
    "version": 3
   },
   "file_extension": ".py",
   "mimetype": "text/x-python",
   "name": "python",
   "nbconvert_exporter": "python",
   "pygments_lexer": "ipython3",
   "version": "3.8.8"
  }
 },
 "nbformat": 4,
 "nbformat_minor": 5
}
